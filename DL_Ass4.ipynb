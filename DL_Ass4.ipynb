{
 "cells": [
  {
   "cell_type": "code",
   "execution_count": 1,
   "id": "fbd74a4f",
   "metadata": {},
   "outputs": [],
   "source": [
    "import pandas as pd\n",
    "import numpy as np\n",
    "import pickle\n",
    "import matplotlib.pyplot as plt\n",
    "import tensorflow as tf\n",
    "import seaborn as sns\n",
    "from sklearn.model_selection import train_test_split\n",
    "from sklearn.preprocessing import StandardScaler\n",
    "from sklearn.metrics import confusion_matrix\n",
    "from keras.models import Model, load_model, Sequential\n",
    "from keras.layers import Input, Dense\n",
    "from keras.callbacks import ModelCheckpoint, TensorBoard"
   ]
  },
  {
   "cell_type": "code",
   "execution_count": 2,
   "id": "054cd836",
   "metadata": {},
   "outputs": [],
   "source": [
    "%matplotlib inline\n",
    "sns.set(style='whitegrid')"
   ]
  },
  {
   "cell_type": "code",
   "execution_count": 3,
   "id": "035c0148",
   "metadata": {},
   "outputs": [],
   "source": [
    "df = pd.read_csv(\"creditcard.csv\")"
   ]
  },
  {
   "cell_type": "code",
   "execution_count": 4,
   "id": "a78d8b97",
   "metadata": {},
   "outputs": [],
   "source": [
    "df = df.drop(['Time'], axis=1)"
   ]
  },
  {
   "cell_type": "code",
   "execution_count": 5,
   "id": "b17c63ce",
   "metadata": {},
   "outputs": [],
   "source": [
    "df['Amount'] = StandardScaler().fit_transform(df['Amount'].values.reshape(-1, 1))"
   ]
  },
  {
   "cell_type": "code",
   "execution_count": 6,
   "id": "899c3f3f",
   "metadata": {},
   "outputs": [],
   "source": [
    "df_fraud = df[df['Class']==1]\n",
    "df_normal = df[df['Class']==0]\n",
    "df_normal = df_normal.sample(frac = 1.0).reset_index(drop = True) #Just shuffling\n",
    "df_normal_1 = df_normal.iloc[:int(df_normal.shape[0]*0.8),:] #80% of normal data for training\n",
    "df_normal_2 = df_normal.iloc[int(df_normal.shape[0]*0.8):,:] #20% of normal data to merge with fraudulent (test set)"
   ]
  },
  {
   "cell_type": "code",
   "execution_count": 7,
   "id": "d2d6f6b4",
   "metadata": {},
   "outputs": [],
   "source": [
    "X_test = pd.concat([df_fraud,df_normal_2], axis = 0)\n",
    "X_test = X_test.sample(frac = 1.0).reset_index(drop = True) #Just shuffling\n",
    " \n",
    "#Separate in input and target variables\n",
    "X_train = df_normal_1[df_normal_1['Class'] == 0]\n",
    "X_train = X_train.drop(['Class'], axis=1)\n",
    " \n",
    "y_test = X_test['Class']\n",
    "X_test = X_test.drop(['Class'], axis=1)"
   ]
  },
  {
   "cell_type": "code",
   "execution_count": 8,
   "id": "38dc0f48",
   "metadata": {},
   "outputs": [],
   "source": [
    "#Build the Neural Network\n",
    "input_dim = X_train.shape[1]\n",
    "encoding_dim = 14\n",
    " \n",
    "model = Sequential()\n",
    "model.add(Dense(29,input_dim = input_dim, activation=\"relu\"))\n",
    "model.add(Dense(14, activation=\"relu\"))\n",
    "model.add(Dense(7, activation=\"relu\"))\n",
    "model.add(Dense(14, activation=\"relu\"))\n",
    "model.add(Dense(input_dim, activation=\"sigmoid\"))\n",
    "model.compile(optimizer='adam', loss='mean_squared_error', metrics=['accuracy'])"
   ]
  },
  {
   "cell_type": "code",
   "execution_count": 9,
   "id": "4ac7e502",
   "metadata": {},
   "outputs": [
    {
     "name": "stdout",
     "output_type": "stream",
     "text": [
      "Model: \"sequential\"\n",
      "_________________________________________________________________\n",
      " Layer (type)                Output Shape              Param #   \n",
      "=================================================================\n",
      " dense (Dense)               (None, 29)                870       \n",
      "                                                                 \n",
      " dense_1 (Dense)             (None, 14)                420       \n",
      "                                                                 \n",
      " dense_2 (Dense)             (None, 7)                 105       \n",
      "                                                                 \n",
      " dense_3 (Dense)             (None, 14)                112       \n",
      "                                                                 \n",
      " dense_4 (Dense)             (None, 29)                435       \n",
      "                                                                 \n",
      "=================================================================\n",
      "Total params: 1,942\n",
      "Trainable params: 1,942\n",
      "Non-trainable params: 0\n",
      "_________________________________________________________________\n"
     ]
    }
   ],
   "source": [
    "model.summary()"
   ]
  },
  {
   "cell_type": "code",
   "execution_count": 10,
   "id": "9db6bce2",
   "metadata": {},
   "outputs": [],
   "source": [
    "#Fit the autoencoder and check loss for train and test\n",
    "checkpointer = ModelCheckpoint(filepath=\"nae.h5\", verbose=0, save_best_only=True)"
   ]
  },
  {
   "cell_type": "code",
   "execution_count": 12,
   "id": "dbd87c00",
   "metadata": {},
   "outputs": [
    {
     "name": "stdout",
     "output_type": "stream",
     "text": [
      "Epoch 1/10\n",
      "7108/7108 [==============================] - 21s 3ms/step - loss: 0.8607 - accuracy: 0.5097 - val_loss: 1.0844 - val_accuracy: 0.5099\n",
      "Epoch 2/10\n",
      "7108/7108 [==============================] - 22s 3ms/step - loss: 0.8496 - accuracy: 0.5137 - val_loss: 1.0771 - val_accuracy: 0.5042\n",
      "Epoch 3/10\n",
      "7108/7108 [==============================] - 23s 3ms/step - loss: 0.8415 - accuracy: 0.5287 - val_loss: 1.0667 - val_accuracy: 0.5305\n",
      "Epoch 4/10\n",
      "7108/7108 [==============================] - 21s 3ms/step - loss: 0.8332 - accuracy: 0.5299 - val_loss: 1.0627 - val_accuracy: 0.5332\n",
      "Epoch 5/10\n",
      "7108/7108 [==============================] - 21s 3ms/step - loss: 0.8284 - accuracy: 0.5417 - val_loss: 1.0579 - val_accuracy: 0.5518\n",
      "Epoch 6/10\n",
      "7108/7108 [==============================] - 22s 3ms/step - loss: 0.8255 - accuracy: 0.5490 - val_loss: 1.0543 - val_accuracy: 0.5491\n",
      "Epoch 7/10\n",
      "7108/7108 [==============================] - 22s 3ms/step - loss: 0.8240 - accuracy: 0.5464 - val_loss: 1.0538 - val_accuracy: 0.5406\n",
      "Epoch 8/10\n",
      "7108/7108 [==============================] - 22s 3ms/step - loss: 0.8230 - accuracy: 0.5438 - val_loss: 1.0535 - val_accuracy: 0.5409\n",
      "Epoch 9/10\n",
      "7108/7108 [==============================] - 22s 3ms/step - loss: 0.8224 - accuracy: 0.5463 - val_loss: 1.0521 - val_accuracy: 0.5326\n",
      "Epoch 10/10\n",
      "7108/7108 [==============================] - 21s 3ms/step - loss: 0.8218 - accuracy: 0.5434 - val_loss: 1.0520 - val_accuracy: 0.5424\n"
     ]
    }
   ],
   "source": [
    "#Save history to plot learning curves\n",
    "history = model.fit(X_train, X_train,\n",
    "epochs=10,\n",
    "batch_size=32,\n",
    "shuffle=True,\n",
    "validation_data=(X_test, X_test),\n",
    "verbose=1,\n",
    "callbacks=[checkpointer]).history\n",
    " \n",
    "autoencoder = load_model('nae.h5')\n",
    " "
   ]
  },
  {
   "cell_type": "code",
   "execution_count": 13,
   "id": "20d6c132",
   "metadata": {},
   "outputs": [
    {
     "data": {
      "text/plain": [
       "Text(0.5, 0, 'epoch')"
      ]
     },
     "execution_count": 13,
     "metadata": {},
     "output_type": "execute_result"
    },
    {
     "data": {
      "image/png": "[encoded data removed]",
      "text/plain": [
       "<Figure size 432x288 with 1 Axes>"
      ]
     },
     "metadata": {},
     "output_type": "display_data"
    }
   ],
   "source": [
    "#Plot losses\n",
    "plt.plot(history['loss'])\n",
    "plt.plot(history['val_loss'])\n",
    "plt.title('model loss')\n",
    "plt.ylabel('loss')\n",
    "plt.xlabel('epoch')"
   ]
  },
  {
   "cell_type": "code",
   "execution_count": 14,
   "id": "9313f6ac",
   "metadata": {},
   "outputs": [
    {
     "name": "stdout",
     "output_type": "stream",
     "text": [
      "1793/1793 [==============================] - 4s 2ms/step\n"
     ]
    }
   ],
   "source": [
    "#Predict on test set\n",
    "predictions = model.predict(X_test)\n",
    " \n",
    "mse = np.mean(np.power(X_test - predictions, 2), axis=1)\n",
    "error_df = pd.DataFrame({'mse': mse,'fraud': y_test})"
   ]
  },
  {
   "cell_type": "code",
   "execution_count": 15,
   "id": "082bf9cb",
   "metadata": {},
   "outputs": [],
   "source": [
    "#Set an error threshold above which a transaction is considered fraud\n",
    "threshold = 4.5\n",
    "error_df['pred_01'] = [1 if e > threshold else 0 for e in error_df['mse'].values]\n",
    "conf_mat = confusion_matrix(error_df['fraud'], error_df['pred_01'])"
   ]
  },
  {
   "cell_type": "code",
   "execution_count": 16,
   "id": "3548b9f2",
   "metadata": {},
   "outputs": [
    {
     "data": {
      "text/plain": [
       "[Text(0, 0.5, 'Normal'), Text(0, 1.5, 'Fraud')]"
      ]
     },
     "execution_count": 16,
     "metadata": {},
     "output_type": "execute_result"
    },
    {
     "data": {
      "image/png": "[encoded data removed]",
      "text/plain": [
       "<Figure size 432x288 with 2 Axes>"
      ]
     },
     "metadata": {},
     "output_type": "display_data"
    }
   ],
   "source": [
    "#Print confusion matrix for the given threshold\n",
    "ax= plt.subplot()\n",
    "sns.heatmap(conf_mat, annot=True, fmt=\"g\", cmap=\"YlGnBu\")\n",
    "# labels, title and ticks\n",
    "ax.set_xlabel('Predicted labels');ax.set_ylabel('True labels');\n",
    "ax.set_title('Confusion Matrix');\n",
    "ax.set_ylim([0,2])\n",
    "ax.xaxis.set_ticklabels([\"Normal\", \"Fraud\"]); ax.yaxis.set_ticklabels([\"Normal\", \"Fraud\"])"
   ]
  },
  {
   "cell_type": "code",
   "execution_count": null,
   "id": "e7a33acc",
   "metadata": {},
   "outputs": [],
   "source": [
    "\n"
   ]
  },
  {
   "cell_type": "code",
   "execution_count": null,
   "id": "6ac3127a",
   "metadata": {},
   "outputs": [],
   "source": []
  }
 ],
 "metadata": {
  "kernelspec": {
   "display_name": "Python 3 (ipykernel)",
   "language": "python",
   "name": "python3"
  },
  "language_info": {
   "codemirror_mode": {
    "name": "ipython",
    "version": 3
   },
   "file_extension": ".py",
   "mimetype": "text/x-python",
   "name": "python",
   "nbconvert_exporter": "python",
   "pygments_lexer": "ipython3",
   "version": "3.9.7"
  }
 },
 "nbformat": 4,
 "nbformat_minor": 5
}
